{
 "cells": [
  {
   "cell_type": "markdown",
   "metadata": {},
   "source": [
    "# Peer-graded Assignment: Capstone Project - The Battle of Neighborhoods"
   ]
  },
  {
   "cell_type": "markdown",
   "metadata": {},
   "source": [
    "# Introduction"
   ]
  },
  {
   "cell_type": "markdown",
   "metadata": {},
   "source": [
    "Consider an event management company named XYZ. A client approaches the company XYZ to organize a particular event in Toronto. As per the requirements of the client, the company is supposed to give a clear idea of the hotels and event spaces in the city along with the list of all Restaurants available in the vicinity of the hotels/event spaces. So as to facilitate this requirement, the company has to make a list of hotels and event spaces along with the Restaurants that are available nearby to these places."
   ]
  },
  {
   "cell_type": "markdown",
   "metadata": {},
   "source": [
    "## Background"
   ]
  },
  {
   "cell_type": "markdown",
   "metadata": {},
   "source": [
    "Event management companies have emerged as a very profitable profession in this modern era. Their success highly depends on the quality of the output delivered. \n",
    "\n",
    "Using modern technologies and by combining opersource location information available with the latest Machine Learning and Data Science tools, a company can achieve informative and interactive solutions to attract its customers. \n",
    "\n",
    "Here we demonstrate one such scenario in the event management industry."
   ]
  },
  {
   "cell_type": "markdown",
   "metadata": {},
   "source": [
    "## Target Audience"
   ]
  },
  {
   "cell_type": "markdown",
   "metadata": {},
   "source": [
    "This project falls into the category of determining the apt location for managing an event in a proper way. Hence the targeted audience can be anyone who wish to organize an event in the city of Toronto, and are looking for proper spots having the hotels and restaurants of the desired status."
   ]
  }
 ],
 "metadata": {
  "kernelspec": {
   "display_name": "Python 3",
   "language": "python",
   "name": "python3"
  },
  "language_info": {
   "codemirror_mode": {
    "name": "ipython",
    "version": 3
   },
   "file_extension": ".py",
   "mimetype": "text/x-python",
   "name": "python",
   "nbconvert_exporter": "python",
   "pygments_lexer": "ipython3",
   "version": "3.7.3"
  }
 },
 "nbformat": 4,
 "nbformat_minor": 2
}
